{
 "cells": [
  {
   "cell_type": "code",
   "execution_count": 39,
   "metadata": {},
   "outputs": [],
   "source": [
    "import bisect\n",
    "from collections import defaultdict\n",
    "import gzip\n",
    "import io\n",
    "import os\n",
    "\n",
    "import pandas as pd\n",
    "from tqdm.notebook import tqdm"
   ]
  },
  {
   "cell_type": "code",
   "execution_count": 17,
   "metadata": {},
   "outputs": [],
   "source": [
    "wd = '~'\n",
    "hd = os.getcwd() + '/'\n",
    "hg38_gtf = f'{\"/\".join(hd.split(\"/\")[0:-2])}/hg38.ncbiRefSeq.gtf.gz'"
   ]
  },
  {
   "cell_type": "code",
   "execution_count": 15,
   "metadata": {},
   "outputs": [],
   "source": [
    "bed_files = []\n",
    "\n",
    "for head, directory, files in os.walk(wd):\n",
    "    for file in files:\n",
    "        if file.endswith('.bed'):\n",
    "            bed_files.append(f'{head}/{file}')"
   ]
  },
  {
   "cell_type": "code",
   "execution_count": 48,
   "metadata": {},
   "outputs": [],
   "source": [
    "def binary_search(site, feature_spans):\n",
    "    search_features = [x[0] for x in feature_spans[site[0]]]\n",
    "    bisect_index = bisect.bisect(search_features, site[1])\n",
    "    upstream_gene = feature_spans[site[0]][bisect_index - 1]\n",
    "    upstream_dist = upstream_gene[0] - site[1]\n",
    "    try:\n",
    "        downstream_gene = feature_spans[site[0]][bisect_index]\n",
    "    except IndexError as e:\n",
    "        downstream_gene = 'NA'\n",
    "        downstream_dist = 'NA'\n",
    "        bookmark = upstream_gene\n",
    "    else:\n",
    "        downstream_dist = downstream_gene[0] - site[1]\n",
    "        bookmark = upstream_gene if abs(upstream_dist) < downstream_dist else downstream_gene\n",
    "    return dict(upstream_gene_id=upstream_gene[1], upstream_gene_start=upstream_gene[0], feature_upstream_dist=upstream_dist,\n",
    "                downstream_gene_id=downstream_gene[1], downstream_gene_start=downstream_gene[0], feature_downstream_dist=downstream_dist,\n",
    "                bookmark_gene=bookmark[1])"
   ]
  },
  {
   "cell_type": "code",
   "execution_count": 19,
   "metadata": {},
   "outputs": [],
   "source": [
    "def get_book_mark_info(site, bookmark_gene):\n",
    "    if bookmark_gene[0]['start'] <= site[1] <= bookmark_gene[0]['end']:\n",
    "        feature_hits = []\n",
    "        for exon in bookmark_gene[1:]:\n",
    "            if exon['start'] <= site[1] <= exon['end']:\n",
    "                if exon['feature'] != 'transcript':\n",
    "                    feature_hits.append(exon['feature'])\n",
    "        if feature_hits:\n",
    "            if 'exon' in feature_hits:\n",
    "                return 'exon'\n",
    "            else:\n",
    "                return feature_hits[0]\n",
    "        return 'intragenic'\n",
    "    else:\n",
    "        return 'intergenic'"
   ]
  },
  {
   "cell_type": "code",
   "execution_count": 20,
   "metadata": {},
   "outputs": [],
   "source": [
    "def update_coefs_meta(coefs, gene_reference, feature_spans):\n",
    "    for site in coefs:\n",
    "        chrom, start, end = site.split(':')\n",
    "        bookmark_info = binary_search((chrom, int(pos)), feature_spans)\n",
    "        bookmark_info['hit_type'] = get_book_mark_info((chrom, int(pos)), gene_reference[bookmark_info['bookmark_gene']])\n",
    "        bookmark_info['chrom'] = chrom\n",
    "        bookmark_info['pos'] = pos\n",
    "        coefs[site].update(bookmark_info)"
   ]
  },
  {
   "cell_type": "code",
   "execution_count": 52,
   "metadata": {},
   "outputs": [],
   "source": [
    "def format_annotations(sites, output_path=None):\n",
    "    sites_df = pd.DataFrame(sites)\n",
    "    if output_path:\n",
    "        sites_df.to_csv(output_path, sep='\\t', index=False)\n",
    "    return sites_df"
   ]
  },
  {
   "cell_type": "markdown",
   "metadata": {},
   "source": [
    "### Site Annotation and Export"
   ]
  },
  {
   "cell_type": "code",
   "execution_count": 34,
   "metadata": {},
   "outputs": [
    {
     "data": {
      "application/vnd.jupyter.widget-view+json": {
       "model_id": "3961544b32e84c729c68f0d6cb2d1133",
       "version_major": 2,
       "version_minor": 0
      },
      "text/plain": [
       "HBox(children=(FloatProgress(value=1.0, bar_style='info', max=1.0), HTML(value='')))"
      ]
     },
     "metadata": {},
     "output_type": "display_data"
    },
    {
     "name": "stdout",
     "output_type": "stream",
     "text": [
      "\n"
     ]
    }
   ],
   "source": [
    "# import reference annotations\n",
    "\n",
    "hg38_refgene_annotations = {}\n",
    "\n",
    "with io.BufferedReader(gzip.open(hg38_gtf, 'rb')) as ref:\n",
    "    for b_line in tqdm(ref):\n",
    "        line = b_line.decode()\n",
    "        line_info = line.strip().split('\\t')\n",
    "        chrom, _, feature_type, start, end, score, strand, frame = line_info[0:-1]\n",
    "        transcript_info = {}\n",
    "        for info in line_info[-1].split(';'):\n",
    "            seg = info.strip().split(' ')\n",
    "            if len(seg)== 2:\n",
    "                transcript_info[seg[0]] = seg[1].replace('\"', '')\n",
    "        info = dict(chrom=chrom, feature=feature_type, start=int(start), end=int(end), strand=strand, frame=frame, attributes=transcript_info)\n",
    "        if transcript_info['gene_name'] not in hg38_refgene_annotations:\n",
    "            hg38_refgene_annotations[transcript_info['gene_name']] = [info]\n",
    "        else:\n",
    "            hg38_refgene_annotations[transcript_info['gene_name']].append(info)"
   ]
  },
  {
   "cell_type": "code",
   "execution_count": 35,
   "metadata": {},
   "outputs": [
    {
     "data": {
      "application/vnd.jupyter.widget-view+json": {
       "model_id": "ae9ef80ed04f47fb9f0a3c1449426285",
       "version_major": 2,
       "version_minor": 0
      },
      "text/plain": [
       "HBox(children=(FloatProgress(value=0.0, max=38557.0), HTML(value='')))"
      ]
     },
     "metadata": {},
     "output_type": "display_data"
    },
    {
     "name": "stdout",
     "output_type": "stream",
     "text": [
      "\n"
     ]
    }
   ],
   "source": [
    "feature_spans = defaultdict(list)\n",
    "\n",
    "count = 0\n",
    "\n",
    "for feature, feature_info in tqdm(hg38_refgene_annotations.items()):\n",
    "    transcript_info = feature_info[0]\n",
    "    if transcript_info['feature'] != 'transcript':\n",
    "        continue\n",
    "    tss_start = transcript_info['start'] if transcript_info['strand'] == '+' else transcript_info['end']\n",
    "    feature_spans[transcript_info['chrom']].append((tss_start, transcript_info['attributes']['gene_name']))"
   ]
  },
  {
   "cell_type": "code",
   "execution_count": 36,
   "metadata": {},
   "outputs": [],
   "source": [
    "for feature_list in feature_spans.values():\n",
    "    feature_list.sort(key=lambda x: x[0])"
   ]
  },
  {
   "cell_type": "code",
   "execution_count": 53,
   "metadata": {},
   "outputs": [
    {
     "data": {
      "application/vnd.jupyter.widget-view+json": {
       "model_id": "618b0fec37e64ab7a15a317b4bbb1fd6",
       "version_major": 2,
       "version_minor": 0
      },
      "text/plain": [
       "HBox(children=(FloatProgress(value=0.0, max=8.0), HTML(value='')))"
      ]
     },
     "metadata": {},
     "output_type": "display_data"
    },
    {
     "name": "stdout",
     "output_type": "stream",
     "text": [
      "\n"
     ]
    }
   ],
   "source": [
    "for bed_file in tqdm(bed_files):\n",
    "        bed_info = []\n",
    "        with open(bed_file, 'r') as bed:\n",
    "            for line in bed:\n",
    "                chrom, start, end = line.strip().split('\\t')\n",
    "                start, end = int(start), int(end)\n",
    "                info = dict(chrom=chrom, start=start, end=end)\n",
    "                info.update(binary_search((chrom, int(start)), feature_spans))\n",
    "                info['hit_type'] = get_book_mark_info((chrom, int(start)), hg38_refgene_annotations[info['bookmark_gene']])\n",
    "                bed_info.append(info)\n",
    "        _ = format_annotations(bed_info, output_path=bed_file.replace('.bed', '.anno.tsv'))"
   ]
  },
  {
   "cell_type": "code",
   "execution_count": null,
   "metadata": {},
   "outputs": [],
   "source": []
  }
 ],
 "metadata": {
  "kernelspec": {
   "display_name": "Python 3",
   "language": "python",
   "name": "python3"
  },
  "language_info": {
   "codemirror_mode": {
    "name": "ipython",
    "version": 3
   },
   "file_extension": ".py",
   "mimetype": "text/x-python",
   "name": "python",
   "nbconvert_exporter": "python",
   "pygments_lexer": "ipython3",
   "version": "3.7.2"
  }
 },
 "nbformat": 4,
 "nbformat_minor": 4
}
